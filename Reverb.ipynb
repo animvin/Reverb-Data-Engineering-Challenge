{
 "cells": [
  {
   "cell_type": "code",
   "execution_count": 374,
   "metadata": {
    "collapsed": true
   },
   "outputs": [],
   "source": [
    "#https://reverb.com/page/reverb-data-engineering-coding-challenge\n",
    "import pandas as pd\n",
    "import numpy as np\n",
    "import urllib\n",
    "import re\n",
    "\n",
    "data = urllib.request.urlopen('https://gist.githubusercontent.com/mrgaaron/843feea23fc14621a0b5085dc6e81e73/raw/af9bea1e9a570c300699036c862604af7a5977e4/gistfile1.txt')\n",
    "content = data.read().decode('ascii')"
   ]
  },
  {
   "cell_type": "code",
   "execution_count": 375,
   "metadata": {},
   "outputs": [
    {
     "data": {
      "text/html": [
       "<div>\n",
       "<style>\n",
       "    .dataframe thead tr:only-child th {\n",
       "        text-align: right;\n",
       "    }\n",
       "\n",
       "    .dataframe thead th {\n",
       "        text-align: left;\n",
       "    }\n",
       "\n",
       "    .dataframe tbody tr th {\n",
       "        vertical-align: top;\n",
       "    }\n",
       "</style>\n",
       "<table border=\"1\" class=\"dataframe\">\n",
       "  <thead>\n",
       "    <tr style=\"text-align: right;\">\n",
       "      <th></th>\n",
       "      <th>url</th>\n",
       "      <th>timestamp</th>\n",
       "      <th>sessionId</th>\n",
       "      <th>experiments</th>\n",
       "      <th>userId</th>\n",
       "    </tr>\n",
       "  </thead>\n",
       "  <tbody>\n",
       "    <tr>\n",
       "      <th>0</th>\n",
       "      <td>/orchestra</td>\n",
       "      <td>2018-01-02 15:41:13.620579</td>\n",
       "      <td>6d707042-801a-41de-9406-54e46f6ae433</td>\n",
       "      <td>full-screen-ads</td>\n",
       "      <td>4</td>\n",
       "    </tr>\n",
       "    <tr>\n",
       "      <th>1</th>\n",
       "      <td>/marketplace</td>\n",
       "      <td>2018-01-02 15:41:17.620579</td>\n",
       "      <td>ecfb723c-b423-4644-ace8-a3d518c2af50</td>\n",
       "      <td>full-screen-ads</td>\n",
       "      <td>8</td>\n",
       "    </tr>\n",
       "    <tr>\n",
       "      <th>2</th>\n",
       "      <td>/orchestra</td>\n",
       "      <td>2018-01-02 15:41:19.620579</td>\n",
       "      <td>b1c15529-f3f0-461c-b2dd-b60fb02223c3</td>\n",
       "      <td>full-screen-ads</td>\n",
       "      <td>2</td>\n",
       "    </tr>\n",
       "    <tr>\n",
       "      <th>3</th>\n",
       "      <td>/pedals</td>\n",
       "      <td>2018-01-02 15:41:22.620579</td>\n",
       "      <td>cbb2aa48-24d9-4bc3-bd86-75072f75096d</td>\n",
       "      <td>no-ads</td>\n",
       "      <td>3</td>\n",
       "    </tr>\n",
       "    <tr>\n",
       "      <th>4</th>\n",
       "      <td>/bass-guitars</td>\n",
       "      <td>2018-01-02 15:41:24.620579</td>\n",
       "      <td>6d707042-801a-41de-9406-54e46f6ae433</td>\n",
       "      <td>full-screen-ads</td>\n",
       "      <td>4</td>\n",
       "    </tr>\n",
       "  </tbody>\n",
       "</table>\n",
       "</div>"
      ],
      "text/plain": [
       "             url                  timestamp  \\\n",
       "0     /orchestra 2018-01-02 15:41:13.620579   \n",
       "1   /marketplace 2018-01-02 15:41:17.620579   \n",
       "2     /orchestra 2018-01-02 15:41:19.620579   \n",
       "3        /pedals 2018-01-02 15:41:22.620579   \n",
       "4  /bass-guitars 2018-01-02 15:41:24.620579   \n",
       "\n",
       "                              sessionId      experiments userId  \n",
       "0  6d707042-801a-41de-9406-54e46f6ae433  full-screen-ads      4  \n",
       "1  ecfb723c-b423-4644-ace8-a3d518c2af50  full-screen-ads      8  \n",
       "2  b1c15529-f3f0-461c-b2dd-b60fb02223c3  full-screen-ads      2  \n",
       "3  cbb2aa48-24d9-4bc3-bd86-75072f75096d           no-ads      3  \n",
       "4  6d707042-801a-41de-9406-54e46f6ae433  full-screen-ads      4  "
      ]
     },
     "execution_count": 375,
     "metadata": {},
     "output_type": "execute_result"
    }
   ],
   "source": [
    "temp = []\n",
    "rgx = re.compile(r'.*url\": \"(.*)\", \"timestamp\": \"(.*)\", \"sessionId\": \"(.*)\", \"experiments\": \"(.*)\", \"userId\": (.*)}')\n",
    "for line in content.split('\\n'):\n",
    "    a=rgx.match(line).groups()\n",
    "    temp.append(a)\n",
    "log = pd.DataFrame(temp,columns=['url','timestamp','sessionId','experiments','userId'])\n",
    "log['timestamp'] = pd.to_datetime(log['timestamp'])\n",
    "log.head()"
   ]
  },
  {
   "cell_type": "code",
   "execution_count": 363,
   "metadata": {},
   "outputs": [
    {
     "name": "stderr",
     "output_type": "stream",
     "text": [
      "C:\\Users\\animv\\Anaconda3\\lib\\site-packages\\ipykernel_launcher.py:1: FutureWarning: using a dict on a Series for aggregation\n",
      "is deprecated and will be removed in a future version\n",
      "  \"\"\"Entry point for launching an IPython kernel.\n"
     ]
    },
    {
     "data": {
      "text/plain": [
       "['/orchestra', '/pro-audio', '/pedals', '/bass-guitars', '/marketplace']"
      ]
     },
     "execution_count": 363,
     "metadata": {},
     "output_type": "execute_result"
    }
   ],
   "source": [
    "top5 = list(log.groupby(['url']).url.agg({\"count\": len}).nlargest(5,columns = ['count']).reset_index().url)\n",
    "top5"
   ]
  },
  {
   "cell_type": "code",
   "execution_count": 369,
   "metadata": {},
   "outputs": [
    {
     "data": {
      "text/html": [
       "<div>\n",
       "<style>\n",
       "    .dataframe thead tr:only-child th {\n",
       "        text-align: right;\n",
       "    }\n",
       "\n",
       "    .dataframe thead th {\n",
       "        text-align: left;\n",
       "    }\n",
       "\n",
       "    .dataframe tbody tr th {\n",
       "        vertical-align: top;\n",
       "    }\n",
       "</style>\n",
       "<table border=\"1\" class=\"dataframe\">\n",
       "  <thead>\n",
       "    <tr style=\"text-align: right;\">\n",
       "      <th></th>\n",
       "      <th>userId</th>\n",
       "      <th>sessionId</th>\n",
       "      <th>session</th>\n",
       "      <th>session1</th>\n",
       "    </tr>\n",
       "  </thead>\n",
       "  <tbody>\n",
       "    <tr>\n",
       "      <th>0</th>\n",
       "      <td>1</td>\n",
       "      <td>0fe8e0c7-65d8-48e4-b33a-c85f10986251</td>\n",
       "      <td>21000.0</td>\n",
       "      <td>00:00:21</td>\n",
       "    </tr>\n",
       "    <tr>\n",
       "      <th>1</th>\n",
       "      <td>1</td>\n",
       "      <td>24ac40e8-d84b-44f1-8ef0-6538ab101db7</td>\n",
       "      <td>69000.0</td>\n",
       "      <td>00:01:09</td>\n",
       "    </tr>\n",
       "    <tr>\n",
       "      <th>2</th>\n",
       "      <td>1</td>\n",
       "      <td>3e653ab9-2de8-4915-bfe7-9184613b7317</td>\n",
       "      <td>68000.0</td>\n",
       "      <td>00:01:08</td>\n",
       "    </tr>\n",
       "    <tr>\n",
       "      <th>3</th>\n",
       "      <td>1</td>\n",
       "      <td>6c8de33e-a1ad-4f77-9de3-93663e00ec7e</td>\n",
       "      <td>24344000.0</td>\n",
       "      <td>06:45:44</td>\n",
       "    </tr>\n",
       "    <tr>\n",
       "      <th>4</th>\n",
       "      <td>1</td>\n",
       "      <td>72843ddd-489d-4285-b12c-45a7831a1ed8</td>\n",
       "      <td>0.0</td>\n",
       "      <td>00:00:00</td>\n",
       "    </tr>\n",
       "  </tbody>\n",
       "</table>\n",
       "</div>"
      ],
      "text/plain": [
       "  userId                             sessionId     session session1\n",
       "0      1  0fe8e0c7-65d8-48e4-b33a-c85f10986251     21000.0 00:00:21\n",
       "1      1  24ac40e8-d84b-44f1-8ef0-6538ab101db7     69000.0 00:01:09\n",
       "2      1  3e653ab9-2de8-4915-bfe7-9184613b7317     68000.0 00:01:08\n",
       "3      1  6c8de33e-a1ad-4f77-9de3-93663e00ec7e  24344000.0 06:45:44\n",
       "4      1  72843ddd-489d-4285-b12c-45a7831a1ed8         0.0 00:00:00"
      ]
     },
     "execution_count": 369,
     "metadata": {},
     "output_type": "execute_result"
    }
   ],
   "source": [
    "grouped = log.groupby(['userId','sessionId'],as_index=False)\n",
    "newdf = grouped['timestamp'].min()\n",
    "newdf['min_time'] = newdf['timestamp']\n",
    "newdf = newdf.drop('timestamp',axis=1)\n",
    "newdf['max_time'] = grouped['timestamp'].max()['timestamp']\n",
    "newdf['session'] = (pd.DatetimeIndex(newdf.max_time).astype ( np.int64 )/1000000 - pd.DatetimeIndex(newdf.min_time).astype ( np.int64 )/1000000)\n",
    "newdf['session1'] = newdf.max_time - newdf.min_time\n",
    "newdf=newdf.drop(['max_time','min_time'],axis=1)\n",
    "newdf.head()"
   ]
  },
  {
   "cell_type": "code",
   "execution_count": 365,
   "metadata": {},
   "outputs": [
    {
     "data": {
      "text/plain": [
       "{'max': 24655000.0, 'mean': 2269928.5714285714, 'median': 27500.0, 'min': 0.0}"
      ]
     },
     "execution_count": 365,
     "metadata": {},
     "output_type": "execute_result"
    }
   ],
   "source": [
    "stats  = {}\n",
    "stats['min'] = newdf['session'].min()\n",
    "stats['max'] = newdf['session'].max()\n",
    "stats['mean'] = newdf['session'].mean()\n",
    "stats['median'] = newdf['session'].median()\n",
    "stats"
   ]
  },
  {
   "cell_type": "code",
   "execution_count": 366,
   "metadata": {},
   "outputs": [
    {
     "data": {
      "text/plain": [
       "{'most_viewed_urls': ['/orchestra',\n",
       "  '/pro-audio',\n",
       "  '/pedals',\n",
       "  '/bass-guitars',\n",
       "  '/marketplace'],\n",
       " 'session_stats': {'max': 24655000.0,\n",
       "  'mean': 2269928.5714285714,\n",
       "  'median': 27500.0,\n",
       "  'min': 0.0}}"
      ]
     },
     "execution_count": 366,
     "metadata": {},
     "output_type": "execute_result"
    }
   ],
   "source": [
    "dict1 = {'most_viewed_urls' : top5}\n",
    "dict2 = {'session_stats': stats}\n",
    "{**dict1, **dict2}"
   ]
  },
  {
   "cell_type": "code",
   "execution_count": 367,
   "metadata": {},
   "outputs": [
    {
     "data": {
      "text/html": [
       "<div>\n",
       "<style>\n",
       "    .dataframe thead tr:only-child th {\n",
       "        text-align: right;\n",
       "    }\n",
       "\n",
       "    .dataframe thead th {\n",
       "        text-align: left;\n",
       "    }\n",
       "\n",
       "    .dataframe tbody tr th {\n",
       "        vertical-align: top;\n",
       "    }\n",
       "</style>\n",
       "<table border=\"1\" class=\"dataframe\">\n",
       "  <thead>\n",
       "    <tr style=\"text-align: right;\">\n",
       "      <th></th>\n",
       "      <th>userId</th>\n",
       "      <th>mean</th>\n",
       "      <th>median</th>\n",
       "      <th>min</th>\n",
       "      <th>max</th>\n",
       "    </tr>\n",
       "  </thead>\n",
       "  <tbody>\n",
       "    <tr>\n",
       "      <th>0</th>\n",
       "      <td>1</td>\n",
       "      <td>3.094875e+06</td>\n",
       "      <td>68500.0</td>\n",
       "      <td>0.0</td>\n",
       "      <td>24344000.0</td>\n",
       "    </tr>\n",
       "    <tr>\n",
       "      <th>1</th>\n",
       "      <td>2</td>\n",
       "      <td>1.446706e+06</td>\n",
       "      <td>18000.0</td>\n",
       "      <td>0.0</td>\n",
       "      <td>24030000.0</td>\n",
       "    </tr>\n",
       "    <tr>\n",
       "      <th>2</th>\n",
       "      <td>3</td>\n",
       "      <td>2.056000e+06</td>\n",
       "      <td>13000.0</td>\n",
       "      <td>0.0</td>\n",
       "      <td>24128000.0</td>\n",
       "    </tr>\n",
       "    <tr>\n",
       "      <th>3</th>\n",
       "      <td>4</td>\n",
       "      <td>2.473600e+06</td>\n",
       "      <td>11000.0</td>\n",
       "      <td>0.0</td>\n",
       "      <td>24531000.0</td>\n",
       "    </tr>\n",
       "    <tr>\n",
       "      <th>4</th>\n",
       "      <td>5</td>\n",
       "      <td>4.142000e+06</td>\n",
       "      <td>63000.0</td>\n",
       "      <td>0.0</td>\n",
       "      <td>24655000.0</td>\n",
       "    </tr>\n",
       "    <tr>\n",
       "      <th>5</th>\n",
       "      <td>6</td>\n",
       "      <td>1.755286e+06</td>\n",
       "      <td>68500.0</td>\n",
       "      <td>0.0</td>\n",
       "      <td>23545000.0</td>\n",
       "    </tr>\n",
       "    <tr>\n",
       "      <th>6</th>\n",
       "      <td>7</td>\n",
       "      <td>2.252455e+06</td>\n",
       "      <td>24000.0</td>\n",
       "      <td>0.0</td>\n",
       "      <td>24475000.0</td>\n",
       "    </tr>\n",
       "    <tr>\n",
       "      <th>7</th>\n",
       "      <td>8</td>\n",
       "      <td>1.900769e+06</td>\n",
       "      <td>25000.0</td>\n",
       "      <td>0.0</td>\n",
       "      <td>24264000.0</td>\n",
       "    </tr>\n",
       "    <tr>\n",
       "      <th>8</th>\n",
       "      <td>9</td>\n",
       "      <td>3.539857e+06</td>\n",
       "      <td>3000.0</td>\n",
       "      <td>0.0</td>\n",
       "      <td>24487000.0</td>\n",
       "    </tr>\n",
       "  </tbody>\n",
       "</table>\n",
       "</div>"
      ],
      "text/plain": [
       "  userId          mean   median  min         max\n",
       "0      1  3.094875e+06  68500.0  0.0  24344000.0\n",
       "1      2  1.446706e+06  18000.0  0.0  24030000.0\n",
       "2      3  2.056000e+06  13000.0  0.0  24128000.0\n",
       "3      4  2.473600e+06  11000.0  0.0  24531000.0\n",
       "4      5  4.142000e+06  63000.0  0.0  24655000.0\n",
       "5      6  1.755286e+06  68500.0  0.0  23545000.0\n",
       "6      7  2.252455e+06  24000.0  0.0  24475000.0\n",
       "7      8  1.900769e+06  25000.0  0.0  24264000.0\n",
       "8      9  3.539857e+06   3000.0  0.0  24487000.0"
      ]
     },
     "execution_count": 367,
     "metadata": {},
     "output_type": "execute_result"
    }
   ],
   "source": [
    "#Extra\n",
    "\n",
    "new_group = newdf.groupby(['userId'],as_index=False)\n",
    "op = new_group['session'].mean()\n",
    "op['mean'] = op['session'] \n",
    "op=op.drop(['session'],axis=1)\n",
    "op['median'] = new_group['session'].median()['session']\n",
    "op['min'] = new_group['session'].min()['session']\n",
    "op['max'] = new_group['session'].max()['session']\n",
    "op"
   ]
  },
  {
   "cell_type": "code",
   "execution_count": null,
   "metadata": {
    "collapsed": true
   },
   "outputs": [],
   "source": []
  }
 ],
 "metadata": {
  "kernelspec": {
   "display_name": "Python 3",
   "language": "python",
   "name": "python3"
  },
  "language_info": {
   "codemirror_mode": {
    "name": "ipython",
    "version": 3
   },
   "file_extension": ".py",
   "mimetype": "text/x-python",
   "name": "python",
   "nbconvert_exporter": "python",
   "pygments_lexer": "ipython3",
   "version": "3.6.2"
  }
 },
 "nbformat": 4,
 "nbformat_minor": 2
}
